{
 "cells": [
  {
   "cell_type": "markdown",
   "metadata": {},
   "source": [
    "# Imports\n",
    "Centralized module import for easy tampering."
   ]
  },
  {
   "cell_type": "code",
   "execution_count": 1,
   "metadata": {},
   "outputs": [],
   "source": [
    "import os\n",
    "root_dir = \"/\"\n",
    "\n",
    "import pickle"
   ]
  },
  {
   "cell_type": "markdown",
   "metadata": {},
   "source": [
    "# Getting Started\n",
    "Make sure we're on the right path."
   ]
  },
  {
   "cell_type": "code",
   "execution_count": 2,
   "metadata": {},
   "outputs": [],
   "source": [
    "os.chdir(os.path.join(root_dir,'home', 'pablo', 'meap'))\n",
    "stories_path = os.path.join(os.getcwd(), 'cnn', 'stories')"
   ]
  },
  {
   "cell_type": "markdown",
   "metadata": {},
   "source": [
    "Now, I'm initializing a dictionary (of specific size) to hold the CNN stories.\n",
    "The `assert` command makes sure we have a dictionary key created for each and all stories in the `./cnn/stories/` directory."
   ]
  },
  {
   "cell_type": "code",
   "execution_count": 3,
   "metadata": {},
   "outputs": [],
   "source": [
    "# if using a dictionary\n",
    "stories = dict.fromkeys(os.listdir(stories_path))\n",
    "assert len(stories) == 92579"
   ]
  },
  {
   "cell_type": "code",
   "execution_count": 4,
   "metadata": {},
   "outputs": [],
   "source": [
    "# if using a list\n",
    "#stories = [None] * 92579"
   ]
  },
  {
   "cell_type": "markdown",
   "metadata": {},
   "source": [
    "## Functions\n",
    "Create some handy story manipulation functions."
   ]
  },
  {
   "cell_type": "code",
   "execution_count": 5,
   "metadata": {},
   "outputs": [],
   "source": [
    "# Split story from summaries\n",
    "def split_story_from_summaries(filepath):\n",
    "    \n",
    "    split_list = []\n",
    "    with open(filepath, 'r') as f:\n",
    "        text = f.read()\n",
    "        # split story body from summaries\n",
    "        split_text = text.split(\"@highlight\")\n",
    "        # remove surrounding whitespace in the story and summaries\n",
    "        for entry in split_text:\n",
    "            split_list.append(entry.strip())\n",
    "    return split_list\n",
    "\n",
    "\n",
    "# Populate the stories dictionary\n",
    "def populate_stories_dictionary(story_id, split_list): \n",
    "    \n",
    "    stories[story_id] = (split_list[0],    # [0] is the story  \n",
    "                         split_list[1:])   # [1:] are the highlights\n",
    "\n",
    "\n",
    "# Method to populate the stories list\n",
    "# TODO\n"
   ]
  },
  {
   "cell_type": "markdown",
   "metadata": {},
   "source": [
    "The `populate_stories_dictionary` creates a dictionary where the key is the story's filename and the value is a tuple of (a) the story's body, and (b) a list contaning all its highlights.\n",
    "\n",
    "```python\n",
    "{\n",
    "    '0a0a4c90d59df9e36ffec4ba306b4f20f3ba4acb.story':\n",
    "    # (a)\n",
    "        ( 'Can a movie actually convince you to support torture? ...', \n",
    "    # (b)\n",
    "        [ 'Dean Obeidallah: A movie or TV show can educate or (mis)educate you', \n",
    "          'Obeidallah: Two new films about hot issues are firing up both the left and right', \n",
    "          'Senators slammed \"Zero Dark Thirty,\" and energy industry attacked \"Promised Land\"',\n",
    "          'Obeidallah: What does Hollywood want? To make money, of course' ]\n",
    "        ),\n",
    "     \n",
    "     'other-story-key.story': ...\n",
    "}\n",
    "```\n",
    "\n",
    "\n"
   ]
  },
  {
   "cell_type": "markdown",
   "metadata": {},
   "source": [
    "# Main\n",
    "Where main processing happens."
   ]
  },
  {
   "cell_type": "code",
   "execution_count": 10,
   "metadata": {},
   "outputs": [],
   "source": [
    "for file in os.listdir(stories_path):\n",
    "    split_list = split_story_from_summaries(os.path.join(stories_path, file))\n",
    "    populate_stories_dictionary(file, split_list)"
   ]
  },
  {
   "cell_type": "markdown",
   "metadata": {},
   "source": [
    "Export the stories as a Pickle file."
   ]
  },
  {
   "cell_type": "code",
   "execution_count": 11,
   "metadata": {},
   "outputs": [],
   "source": [
    "with open('stories.pkl', 'wb') as file:\n",
    "    pickle.dump(stories, file)"
   ]
  },
  {
   "cell_type": "markdown",
   "metadata": {},
   "source": [
    "## Test\n",
    "Test all is good."
   ]
  },
  {
   "cell_type": "code",
   "execution_count": null,
   "metadata": {},
   "outputs": [],
   "source": [
    "print(stories['0a0a4c90d59df9e36ffec4ba306b4f20f3ba4acb.story'])"
   ]
  }
 ],
 "metadata": {
  "kernelspec": {
   "display_name": "Python 3",
   "language": "python",
   "name": "python3"
  },
  "language_info": {
   "codemirror_mode": {
    "name": "ipython",
    "version": 3
   },
   "file_extension": ".py",
   "mimetype": "text/x-python",
   "name": "python",
   "nbconvert_exporter": "python",
   "pygments_lexer": "ipython3",
   "version": "3.8.6"
  }
 },
 "nbformat": 4,
 "nbformat_minor": 4
}
