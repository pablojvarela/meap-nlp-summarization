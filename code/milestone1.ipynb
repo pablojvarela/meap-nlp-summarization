{
 "cells": [
  {
   "cell_type": "markdown",
   "metadata": {},
   "source": [
    "# Imports\n",
    "Centralized module import for easy tampering."
   ]
  },
  {
   "cell_type": "code",
   "execution_count": 8,
   "metadata": {},
   "outputs": [],
   "source": [
    "import os\n",
    "root_dir = \"/\""
   ]
  },
  {
   "cell_type": "markdown",
   "metadata": {},
   "source": [
    "# Getting Started\n",
    "Make sure we're on the stories path."
   ]
  },
  {
   "cell_type": "code",
   "execution_count": 9,
   "metadata": {},
   "outputs": [],
   "source": [
    "os.chdir(os.path.join(root_dir,'home', 'pablo', 'meap', 'cnn', 'stories'))\n",
    "assert os.getcwd() == \"/home/pablo/meap/cnn/stories\""
   ]
  },
  {
   "cell_type": "markdown",
   "metadata": {},
   "source": [
    "Now, I'm initializing a dictionary (of specific size) to hold the CNN stories.\n",
    "The `assert` command makes sure we have a dictionary key created for each and all stories in the `./cnn/stories/` directory."
   ]
  },
  {
   "cell_type": "code",
   "execution_count": 10,
   "metadata": {},
   "outputs": [],
   "source": [
    "# if using a dictionary\n",
    "stories = dict.fromkeys(os.listdir())\n",
    "assert len(stories) == 92579"
   ]
  },
  {
   "cell_type": "code",
   "execution_count": 11,
   "metadata": {},
   "outputs": [],
   "source": [
    "# if using a list\n",
    "#stories = [None] * 92579"
   ]
  },
  {
   "cell_type": "markdown",
   "metadata": {},
   "source": [
    "## Functions\n",
    "Create some handy story manipulation functions."
   ]
  },
  {
   "cell_type": "code",
   "execution_count": 12,
   "metadata": {},
   "outputs": [],
   "source": [
    "# Split story from summaries\n",
    "def split_story_from_summaries(filepath):\n",
    "    \n",
    "    split_list = []\n",
    "    with open(filepath, 'r') as f:\n",
    "        text = f.read()\n",
    "        # split story body from summaries\n",
    "        split_text = text.split(\"@highlight\")\n",
    "        # remove surrounding whitespace in the story and summaries\n",
    "        for entry in split_text:\n",
    "            split_list.append(entry.strip())\n",
    "    return split_list\n",
    "\n",
    "\n",
    "# Populate the stories dictionary\n",
    "def populate_stories_dictionary(story_id, split_list): \n",
    "    \n",
    "    stories[story_id] = (split_list[0],    # [0] is the story  \n",
    "                         split_list[1:])   # [1:] are the highlights\n",
    "\n",
    "\n",
    "# Method to populate the stories list\n",
    "# TODO\n"
   ]
  },
  {
   "cell_type": "markdown",
   "metadata": {},
   "source": [
    "The `populate_stories_dictionary` creates a dictionary where the key is the story's filename and the value is a tuple of (a) the story's body, and (b) a list contaning all its highlights.\n",
    "\n",
    "```python\n",
    "{\n",
    "    '0a0a4c90d59df9e36ffec4ba306b4f20f3ba4acb.story':\n",
    "    # (a)\n",
    "        ( 'Can a movie actually convince you to support torture? ...', \n",
    "    # (b)\n",
    "        [ 'Dean Obeidallah: A movie or TV show can educate or (mis)educate you', \n",
    "          'Obeidallah: Two new films about hot issues are firing up both the left and right', \n",
    "          'Senators slammed \"Zero Dark Thirty,\" and energy industry attacked \"Promised Land\"',\n",
    "          'Obeidallah: What does Hollywood want? To make money, of course' ]\n",
    "        ),\n",
    "     \n",
    "     'other-story-key.story': ...\n",
    "}\n",
    "```\n",
    "\n",
    "\n"
   ]
  },
  {
   "cell_type": "markdown",
   "metadata": {},
   "source": [
    "# Main\n",
    "Where main processing happens."
   ]
  },
  {
   "cell_type": "code",
   "execution_count": 13,
   "metadata": {},
   "outputs": [],
   "source": [
    "for file in os.listdir(os.curdir):\n",
    "    split_list = split_story_from_summaries(file)\n",
    "    populate_stories_dictionary(file, split_list)"
   ]
  },
  {
   "cell_type": "markdown",
   "metadata": {},
   "source": [
    "## Test\n",
    "Test all is good."
   ]
  },
  {
   "cell_type": "code",
   "execution_count": 14,
   "metadata": {},
   "outputs": [
    {
     "name": "stdout",
     "output_type": "stream",
     "text": [
      "('(CNN) -- Can a movie actually convince you to support torture? Can a movie really persuade you that \"fracking\" -- a process used to drill for natural gas -- is a danger to the environment? Can a movie truly cause you to view certain minority groups in a negative light?\\n\\nSome scoff at the notion that movies do anything more than entertain. They are wrong. Sure, it\\'s unlikely that one movie alone will change your views on issues of magnitude. But a movie (or TV show) can begin your \"education\" or \"miseducation\" on a topic. And for those already agreeing with the film\\'s thesis, it can further entrench your views.\\n\\nAnyone who doubts the potential influence that movies can have on public opinion need to look no further than two films that are causing an uproar even before they have opened nationwide. They present hot button issues that manage to fire up people from the left and right.\\n\\nThe first, \"Zero Dark Thirty,\" is about the pursuit and killing of Osama bin Laden, which features scenes of torture. The second, \"Promised Land,\" stars Matt Damon and explores how the use of fracking to drill for natural gas can pose health and environmental dangers.\\n\\nCritics of \"Zero Dark Thirty\" fear that audiences will accept as true the film\\'s story line that torture was effective in eliciting information to locate bin Laden. They are rightfully concerned that the film will sway some to become more receptive or even supportive of the idea of torturing prisoners.\\n\\nPeter Bergen: Did torture really net bin Laden?\\n\\nOpposition to the film escalated last week as three senior U.S. senators -- John McCain, Carl Levin and Dianne Feinstein -- sent a letter to the film\\'s distributor, Sony Pictures, characterizing the film\\'s use of torture as \"grossly inaccurate and misleading.\" The senators bluntly informed Sony Pictures that it has \"an obligation to state that the role of torture in the hunt for Osama bin Laden is not based on the facts, but rather part of the film\\'s fictional narrative.\"\\n\\nThe hostility toward \"Promised Land\" shows us that it\\'s not just politicians who complain about movie messages. Big business -- namely, the gas industry -- is aggressively objecting to the allegation in \"Promised Land\" that fracking poses environmental and health risks.\\n\\nHow concerned is the gas industry?\\n\\nIt has set up a rapid response team to counter publicity for the film by using two Washington-based groups that lobby for gas and oil companies: the Independent Petroleum Association of America and Energy in Depth. These groups have scrutinized appearances by the films stars on talk shows, questioned who the financiers of the film are, published parts of the script and mocked the film on social media.\\n\\nEnergy in Depth went as far as to \"fact check\" a recent appearance by the film\\'s co-star and co-writer, John Krasinski, on \"Late Night With David Letterman.\" Within hours of Krasinski\\'s appearance, Energy in Depth posted a blog on its website pointing out what it perceived as factual errors made by Krasinski about fracking.\\n\\nRegardless of whether \"Zero Dark Thirty\" and \"Promised Land\" intended to promote any message, people who watch them will be \"educated\" in some way on torture and fracking -- even if very subtly.\\n\\nThis is the same reason that minority groups continue to object to being represented in a negative light in movies and TV. They understand that accurate representations matter because studies have shown that biases can form based on stereotypes or inaccurate representations. (Being of Italian and Arab descent, I\\'m acutely aware of this issue as my respective heritages have been represented by a parade of mobsters and terrorists.)\\n\\nWhat\\'s Hollywood\\'s role in all of this? The same as it has always been -- to make money.\\n\\nIn fact, there\\'s no doubt that the studios behind these movies are overjoyed at the controversy that has erupted and the resulting free press. Indeed, the response of Sony Pictures to the uproar over \"Zero Dark Thirty\" tells you about what they really hope we will all do: \"We encourage people to see the film before characterizing it.\"\\n\\nSo go ahead, enjoy these films and ones like them that are based on actual events or current hot issues. But while you are watching them, be aware you might be getting more than the price of ticket. You might also be getting a (mis)education.\\n\\nThe opinions expressed in this commentary are solely those of Dean Obeidallah.', ['Dean Obeidallah: A movie or TV show can educate or (mis)educate you', 'Obeidallah: Two new films about hot issues are firing up both the left and right', 'Senators slammed \"Zero Dark Thirty,\" and energy industry attacked \"Promised Land\"', 'Obeidallah: What does Hollywood want? To make money, of course'])\n"
     ]
    }
   ],
   "source": [
    "print(stories['0a0a4c90d59df9e36ffec4ba306b4f20f3ba4acb.story'])"
   ]
  }
 ],
 "metadata": {
  "kernelspec": {
   "display_name": "Python 3",
   "language": "python",
   "name": "python3"
  },
  "language_info": {
   "codemirror_mode": {
    "name": "ipython",
    "version": 3
   },
   "file_extension": ".py",
   "mimetype": "text/x-python",
   "name": "python",
   "nbconvert_exporter": "python",
   "pygments_lexer": "ipython3",
   "version": "3.8.6"
  }
 },
 "nbformat": 4,
 "nbformat_minor": 4
}
